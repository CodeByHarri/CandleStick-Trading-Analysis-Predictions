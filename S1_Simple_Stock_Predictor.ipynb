{
 "cells": [
  {
   "cell_type": "markdown",
   "metadata": {},
   "source": [
    "# A Simple Stock Predictor"
   ]
  },
  {
   "cell_type": "markdown",
   "metadata": {},
   "source": [
    "## Objective \n",
    "\n",
    "*Given The SP500 data from Yahoo finance. Can we predict if the next day will go up or down?*\n",
    "\n",
    "## Methodology\n",
    "\n",
    "1. Data Preperation\n",
    "2. Simple Feature Creation\n",
    "3. Using LightGBM + Optuna to making a model\n",
    "4. Use the model to predict unseen data \n",
    "5. Evaluation\n",
    "\n"
   ]
  },
  {
   "cell_type": "code",
   "execution_count": 1,
   "metadata": {},
   "outputs": [
    {
     "name": "stderr",
     "output_type": "stream",
     "text": [
      "C:\\Users\\harri\\anaconda3\\lib\\site-packages\\pandas_datareader\\compat\\__init__.py:7: FutureWarning: pandas.util.testing is deprecated. Use the functions in the public API at pandas.testing instead.\n",
      "  from pandas.util.testing import assert_frame_equal\n"
     ]
    }
   ],
   "source": [
    "#Standard libraries\n",
    "import pandas as pd\n",
    "import seaborn as sns\n",
    "import numpy as np\n",
    "import matplotlib.pyplot as plt\n",
    "import time \n",
    "\n",
    "# library for sampling\n",
    "from scipy.stats import uniform\n",
    "\n",
    "# libraries for Data Download\n",
    "import datetime\n",
    "from pandas_datareader import data as pdr\n",
    "import yfinance as yf\n",
    "\n",
    "# sklearn\n",
    "from sklearn import metrics\n",
    "from sklearn.model_selection import train_test_split\n"
   ]
  },
  {
   "cell_type": "code",
   "execution_count": 2,
   "metadata": {},
   "outputs": [
    {
     "name": "stdout",
     "output_type": "stream",
     "text": [
      "[*********************100%***********************]  1 of 1 completed\n"
     ]
    },
    {
     "data": {
      "text/plain": [
       "(10191, 6)"
      ]
     },
     "execution_count": 2,
     "metadata": {},
     "output_type": "execute_result"
    }
   ],
   "source": [
    "# Imports data\n",
    "start_sp=datetime.datetime(1980, 1, 1) \n",
    "end_sp=datetime.datetime(2020, 5, 31)\n",
    "\n",
    "yf.pdr_override() \n",
    "data=pdr.get_data_yahoo('^GSPC', \n",
    "                        start_sp,\n",
    "                        end_sp)\n",
    "data.shape"
   ]
  },
  {
   "cell_type": "code",
   "execution_count": 3,
   "metadata": {},
   "outputs": [
    {
     "data": {
      "text/html": [
       "<div>\n",
       "<style scoped>\n",
       "    .dataframe tbody tr th:only-of-type {\n",
       "        vertical-align: middle;\n",
       "    }\n",
       "\n",
       "    .dataframe tbody tr th {\n",
       "        vertical-align: top;\n",
       "    }\n",
       "\n",
       "    .dataframe thead th {\n",
       "        text-align: right;\n",
       "    }\n",
       "</style>\n",
       "<table border=\"1\" class=\"dataframe\">\n",
       "  <thead>\n",
       "    <tr style=\"text-align: right;\">\n",
       "      <th></th>\n",
       "      <th>Open</th>\n",
       "      <th>High</th>\n",
       "      <th>Low</th>\n",
       "      <th>Close</th>\n",
       "      <th>Adj Close</th>\n",
       "      <th>Volume</th>\n",
       "    </tr>\n",
       "    <tr>\n",
       "      <th>Date</th>\n",
       "      <th></th>\n",
       "      <th></th>\n",
       "      <th></th>\n",
       "      <th></th>\n",
       "      <th></th>\n",
       "      <th></th>\n",
       "    </tr>\n",
       "  </thead>\n",
       "  <tbody>\n",
       "    <tr>\n",
       "      <th>1979-12-31</th>\n",
       "      <td>107.839996</td>\n",
       "      <td>108.529999</td>\n",
       "      <td>107.260002</td>\n",
       "      <td>107.940002</td>\n",
       "      <td>107.940002</td>\n",
       "      <td>31530000</td>\n",
       "    </tr>\n",
       "    <tr>\n",
       "      <th>1980-01-02</th>\n",
       "      <td>107.940002</td>\n",
       "      <td>108.430000</td>\n",
       "      <td>105.290001</td>\n",
       "      <td>105.760002</td>\n",
       "      <td>105.760002</td>\n",
       "      <td>40610000</td>\n",
       "    </tr>\n",
       "    <tr>\n",
       "      <th>1980-01-03</th>\n",
       "      <td>105.760002</td>\n",
       "      <td>106.080002</td>\n",
       "      <td>103.260002</td>\n",
       "      <td>105.220001</td>\n",
       "      <td>105.220001</td>\n",
       "      <td>50480000</td>\n",
       "    </tr>\n",
       "    <tr>\n",
       "      <th>1980-01-04</th>\n",
       "      <td>105.220001</td>\n",
       "      <td>107.080002</td>\n",
       "      <td>105.089996</td>\n",
       "      <td>106.519997</td>\n",
       "      <td>106.519997</td>\n",
       "      <td>39130000</td>\n",
       "    </tr>\n",
       "    <tr>\n",
       "      <th>1980-01-07</th>\n",
       "      <td>106.519997</td>\n",
       "      <td>107.800003</td>\n",
       "      <td>105.800003</td>\n",
       "      <td>106.809998</td>\n",
       "      <td>106.809998</td>\n",
       "      <td>44500000</td>\n",
       "    </tr>\n",
       "  </tbody>\n",
       "</table>\n",
       "</div>"
      ],
      "text/plain": [
       "                  Open        High         Low       Close   Adj Close  \\\n",
       "Date                                                                     \n",
       "1979-12-31  107.839996  108.529999  107.260002  107.940002  107.940002   \n",
       "1980-01-02  107.940002  108.430000  105.290001  105.760002  105.760002   \n",
       "1980-01-03  105.760002  106.080002  103.260002  105.220001  105.220001   \n",
       "1980-01-04  105.220001  107.080002  105.089996  106.519997  106.519997   \n",
       "1980-01-07  106.519997  107.800003  105.800003  106.809998  106.809998   \n",
       "\n",
       "              Volume  \n",
       "Date                  \n",
       "1979-12-31  31530000  \n",
       "1980-01-02  40610000  \n",
       "1980-01-03  50480000  \n",
       "1980-01-04  39130000  \n",
       "1980-01-07  44500000  "
      ]
     },
     "execution_count": 3,
     "metadata": {},
     "output_type": "execute_result"
    }
   ],
   "source": [
    "data.head()"
   ]
  },
  {
   "cell_type": "markdown",
   "metadata": {},
   "source": [
    "## Create Features"
   ]
  },
  {
   "cell_type": "code",
   "execution_count": 4,
   "metadata": {},
   "outputs": [],
   "source": [
    "def prepare_data(data):  \n",
    "    # Compute the logarithmic returns using the Closing price \n",
    "    data['Log_Ret_1d']=np.log(data['Close'] / data['Close'].shift(1))\n",
    "\n",
    "    # Compute logarithmic returns using the pandas rolling mean function\n",
    "    n_lag = [1,2,3,4,7,8,12,14,16,20,24,28,32,36,40,44,48,52,56,60,64,68,72,76,80]\n",
    "\n",
    "    for i in n_lag:  \n",
    "        # Compute logarithmic returns using the pandas rolling mean function\n",
    "        data[f'Log_Ret_{str(i)}w']=pd.Series(data['Log_Ret_1d']).rolling(window=i*5).sum()\n",
    "\n",
    "    for i in n_lag:\n",
    "        # Compute Volatility using the pandas rolling standard deviation function\n",
    "        data[f'Vol_{str(i)}w']=pd.Series(data['Log_Ret_1d']).rolling(window=i*5).std()*np.sqrt(i*5)\n",
    "\n",
    "    for i in n_lag:\n",
    "        # Compute Volumes using the pandas rolling mean function\n",
    "        data[f'Volume_{str(i)}w']=pd.Series(data['Volume']).rolling(window=i*5).mean()\n",
    "\n",
    "    return_features = ['Open', 'Close']\n",
    "    \n",
    "    def create_lag(df_code, n_lag=n_lag, shift_size=1):\n",
    "        \n",
    "        for col in return_features:\n",
    "            for window in n_lag:\n",
    "                rolled = df_code[col].shift(shift_size).rolling(window=window)\n",
    "                lag_mean = rolled.mean()\n",
    "                lag_max = rolled.max()\n",
    "                lag_min = rolled.min()\n",
    "                df_code['%s_lag_%s_mean' % (col, window)] = lag_mean\n",
    "                df_code['%s_lag_%s_max' % (col, window)] = lag_max\n",
    "                df_code['%s_lag_%s_min' % (col, window)] = lag_min\n",
    "                \n",
    "        return df_code\n",
    "\n",
    "    data = create_lag(data)\n",
    "\n",
    "\n",
    "    data['Return_Label']=pd.Series(data['Log_Ret_1d']).shift(-1).rolling(window=1).sum() # 1 for day trading, 7 is a better number\n",
    "    data['Label']=np.where(data['Return_Label'] > 0, 1, 0)\n",
    "\n",
    "    # Drop NA´s\n",
    "    data=data.dropna(\"index\")\n",
    "    data=data.drop(['Open', 'High', 'Low', 'Close', 'Adj Close', 'Volume', \"Return_Label\"], axis=1)\n",
    "    \n",
    "    return(data)"
   ]
  },
  {
   "cell_type": "code",
   "execution_count": 5,
   "metadata": {},
   "outputs": [
    {
     "data": {
      "text/html": [
       "<div>\n",
       "<style scoped>\n",
       "    .dataframe tbody tr th:only-of-type {\n",
       "        vertical-align: middle;\n",
       "    }\n",
       "\n",
       "    .dataframe tbody tr th {\n",
       "        vertical-align: top;\n",
       "    }\n",
       "\n",
       "    .dataframe thead th {\n",
       "        text-align: right;\n",
       "    }\n",
       "</style>\n",
       "<table border=\"1\" class=\"dataframe\">\n",
       "  <thead>\n",
       "    <tr style=\"text-align: right;\">\n",
       "      <th></th>\n",
       "      <th>Log_Ret_1d</th>\n",
       "      <th>Log_Ret_1w</th>\n",
       "      <th>Log_Ret_2w</th>\n",
       "      <th>Log_Ret_3w</th>\n",
       "      <th>Log_Ret_4w</th>\n",
       "      <th>Log_Ret_7w</th>\n",
       "      <th>Log_Ret_8w</th>\n",
       "      <th>Log_Ret_12w</th>\n",
       "      <th>Log_Ret_14w</th>\n",
       "      <th>Log_Ret_16w</th>\n",
       "      <th>...</th>\n",
       "      <th>Close_lag_72_mean</th>\n",
       "      <th>Close_lag_72_max</th>\n",
       "      <th>Close_lag_72_min</th>\n",
       "      <th>Close_lag_76_mean</th>\n",
       "      <th>Close_lag_76_max</th>\n",
       "      <th>Close_lag_76_min</th>\n",
       "      <th>Close_lag_80_mean</th>\n",
       "      <th>Close_lag_80_max</th>\n",
       "      <th>Close_lag_80_min</th>\n",
       "      <th>Label</th>\n",
       "    </tr>\n",
       "    <tr>\n",
       "      <th>Date</th>\n",
       "      <th></th>\n",
       "      <th></th>\n",
       "      <th></th>\n",
       "      <th></th>\n",
       "      <th></th>\n",
       "      <th></th>\n",
       "      <th></th>\n",
       "      <th></th>\n",
       "      <th></th>\n",
       "      <th></th>\n",
       "      <th></th>\n",
       "      <th></th>\n",
       "      <th></th>\n",
       "      <th></th>\n",
       "      <th></th>\n",
       "      <th></th>\n",
       "      <th></th>\n",
       "      <th></th>\n",
       "      <th></th>\n",
       "      <th></th>\n",
       "      <th></th>\n",
       "    </tr>\n",
       "  </thead>\n",
       "  <tbody>\n",
       "    <tr>\n",
       "      <th>2020-05-21</th>\n",
       "      <td>-0.007804</td>\n",
       "      <td>0.033104</td>\n",
       "      <td>0.023097</td>\n",
       "      <td>0.012312</td>\n",
       "      <td>0.052467</td>\n",
       "      <td>0.176879</td>\n",
       "      <td>0.174833</td>\n",
       "      <td>-0.055375</td>\n",
       "      <td>-0.129971</td>\n",
       "      <td>-0.105396</td>\n",
       "      <td>...</td>\n",
       "      <td>2858.088874</td>\n",
       "      <td>3386.149902</td>\n",
       "      <td>2237.399902</td>\n",
       "      <td>2881.702354</td>\n",
       "      <td>3386.149902</td>\n",
       "      <td>2237.399902</td>\n",
       "      <td>2900.852484</td>\n",
       "      <td>3386.149902</td>\n",
       "      <td>2237.399902</td>\n",
       "      <td>1</td>\n",
       "    </tr>\n",
       "    <tr>\n",
       "      <th>2020-05-22</th>\n",
       "      <td>0.002351</td>\n",
       "      <td>0.031536</td>\n",
       "      <td>0.008717</td>\n",
       "      <td>0.043123</td>\n",
       "      <td>0.040995</td>\n",
       "      <td>0.156658</td>\n",
       "      <td>0.116640</td>\n",
       "      <td>-0.007856</td>\n",
       "      <td>-0.134062</td>\n",
       "      <td>-0.102178</td>\n",
       "      <td>...</td>\n",
       "      <td>2852.822208</td>\n",
       "      <td>3386.149902</td>\n",
       "      <td>2237.399902</td>\n",
       "      <td>2877.749592</td>\n",
       "      <td>3386.149902</td>\n",
       "      <td>2237.399902</td>\n",
       "      <td>2896.755859</td>\n",
       "      <td>3386.149902</td>\n",
       "      <td>2237.399902</td>\n",
       "      <td>1</td>\n",
       "    </tr>\n",
       "    <tr>\n",
       "      <th>2020-05-26</th>\n",
       "      <td>0.012214</td>\n",
       "      <td>0.012736</td>\n",
       "      <td>0.020798</td>\n",
       "      <td>0.051097</td>\n",
       "      <td>0.038603</td>\n",
       "      <td>0.184125</td>\n",
       "      <td>0.163123</td>\n",
       "      <td>0.012631</td>\n",
       "      <td>-0.120216</td>\n",
       "      <td>-0.093093</td>\n",
       "      <td>...</td>\n",
       "      <td>2847.313317</td>\n",
       "      <td>3386.149902</td>\n",
       "      <td>2237.399902</td>\n",
       "      <td>2873.247748</td>\n",
       "      <td>3386.149902</td>\n",
       "      <td>2237.399902</td>\n",
       "      <td>2892.781485</td>\n",
       "      <td>3386.149902</td>\n",
       "      <td>2237.399902</td>\n",
       "      <td>1</td>\n",
       "    </tr>\n",
       "    <tr>\n",
       "      <th>2020-05-27</th>\n",
       "      <td>0.014718</td>\n",
       "      <td>0.037994</td>\n",
       "      <td>0.056230</td>\n",
       "      <td>0.056815</td>\n",
       "      <td>0.058577</td>\n",
       "      <td>0.130875</td>\n",
       "      <td>0.144874</td>\n",
       "      <td>-0.017662</td>\n",
       "      <td>-0.107339</td>\n",
       "      <td>-0.060511</td>\n",
       "      <td>...</td>\n",
       "      <td>2842.230262</td>\n",
       "      <td>3386.149902</td>\n",
       "      <td>2237.399902</td>\n",
       "      <td>2868.735644</td>\n",
       "      <td>3386.149902</td>\n",
       "      <td>2237.399902</td>\n",
       "      <td>2889.132861</td>\n",
       "      <td>3386.149902</td>\n",
       "      <td>2237.399902</td>\n",
       "      <td>0</td>\n",
       "    </tr>\n",
       "    <tr>\n",
       "      <th>2020-05-28</th>\n",
       "      <td>-0.002110</td>\n",
       "      <td>0.019370</td>\n",
       "      <td>0.071737</td>\n",
       "      <td>0.061709</td>\n",
       "      <td>0.030231</td>\n",
       "      <td>0.130369</td>\n",
       "      <td>0.158907</td>\n",
       "      <td>0.008738</td>\n",
       "      <td>-0.106525</td>\n",
       "      <td>-0.069849</td>\n",
       "      <td>...</td>\n",
       "      <td>2837.461928</td>\n",
       "      <td>3386.149902</td>\n",
       "      <td>2237.399902</td>\n",
       "      <td>2864.661300</td>\n",
       "      <td>3386.149902</td>\n",
       "      <td>2237.399902</td>\n",
       "      <td>2886.765485</td>\n",
       "      <td>3386.149902</td>\n",
       "      <td>2237.399902</td>\n",
       "      <td>1</td>\n",
       "    </tr>\n",
       "  </tbody>\n",
       "</table>\n",
       "<p>5 rows × 227 columns</p>\n",
       "</div>"
      ],
      "text/plain": [
       "            Log_Ret_1d  Log_Ret_1w  Log_Ret_2w  Log_Ret_3w  Log_Ret_4w  \\\n",
       "Date                                                                     \n",
       "2020-05-21   -0.007804    0.033104    0.023097    0.012312    0.052467   \n",
       "2020-05-22    0.002351    0.031536    0.008717    0.043123    0.040995   \n",
       "2020-05-26    0.012214    0.012736    0.020798    0.051097    0.038603   \n",
       "2020-05-27    0.014718    0.037994    0.056230    0.056815    0.058577   \n",
       "2020-05-28   -0.002110    0.019370    0.071737    0.061709    0.030231   \n",
       "\n",
       "            Log_Ret_7w  Log_Ret_8w  Log_Ret_12w  Log_Ret_14w  Log_Ret_16w  \\\n",
       "Date                                                                        \n",
       "2020-05-21    0.176879    0.174833    -0.055375    -0.129971    -0.105396   \n",
       "2020-05-22    0.156658    0.116640    -0.007856    -0.134062    -0.102178   \n",
       "2020-05-26    0.184125    0.163123     0.012631    -0.120216    -0.093093   \n",
       "2020-05-27    0.130875    0.144874    -0.017662    -0.107339    -0.060511   \n",
       "2020-05-28    0.130369    0.158907     0.008738    -0.106525    -0.069849   \n",
       "\n",
       "            ...  Close_lag_72_mean  Close_lag_72_max  Close_lag_72_min  \\\n",
       "Date        ...                                                          \n",
       "2020-05-21  ...        2858.088874       3386.149902       2237.399902   \n",
       "2020-05-22  ...        2852.822208       3386.149902       2237.399902   \n",
       "2020-05-26  ...        2847.313317       3386.149902       2237.399902   \n",
       "2020-05-27  ...        2842.230262       3386.149902       2237.399902   \n",
       "2020-05-28  ...        2837.461928       3386.149902       2237.399902   \n",
       "\n",
       "            Close_lag_76_mean  Close_lag_76_max  Close_lag_76_min  \\\n",
       "Date                                                                \n",
       "2020-05-21        2881.702354       3386.149902       2237.399902   \n",
       "2020-05-22        2877.749592       3386.149902       2237.399902   \n",
       "2020-05-26        2873.247748       3386.149902       2237.399902   \n",
       "2020-05-27        2868.735644       3386.149902       2237.399902   \n",
       "2020-05-28        2864.661300       3386.149902       2237.399902   \n",
       "\n",
       "            Close_lag_80_mean  Close_lag_80_max  Close_lag_80_min  Label  \n",
       "Date                                                                      \n",
       "2020-05-21        2900.852484       3386.149902       2237.399902      1  \n",
       "2020-05-22        2896.755859       3386.149902       2237.399902      1  \n",
       "2020-05-26        2892.781485       3386.149902       2237.399902      1  \n",
       "2020-05-27        2889.132861       3386.149902       2237.399902      0  \n",
       "2020-05-28        2886.765485       3386.149902       2237.399902      1  \n",
       "\n",
       "[5 rows x 227 columns]"
      ]
     },
     "execution_count": 5,
     "metadata": {},
     "output_type": "execute_result"
    }
   ],
   "source": [
    "sp500 = prepare_data(data)\n",
    "sp500.tail(5)"
   ]
  },
  {
   "cell_type": "markdown",
   "metadata": {},
   "source": [
    "## Out of Curiosity : Checking the Importance of Features"
   ]
  },
  {
   "cell_type": "code",
   "execution_count": 6,
   "metadata": {},
   "outputs": [
    {
     "name": "stdout",
     "output_type": "stream",
     "text": [
      "Starting training...\n"
     ]
    },
    {
     "data": {
      "image/png": "[encoded data removed]",
      "text/plain": [
       "<Figure size 2880x1440 with 1 Axes>"
      ]
     },
     "metadata": {
      "needs_background": "light"
     },
     "output_type": "display_data"
    }
   ],
   "source": [
    "import lightgbm as lgb\n",
    "\n",
    "# Making a Training and Testing set\n",
    "data, target = sp500.iloc[:,0:(sp500.shape[1]-1)], sp500.iloc[:,(sp500.shape[1]-1)]\n",
    "train_x, valid_x, train_y, valid_y = train_test_split(data, target, test_size=0.25)\n",
    "\n",
    "lgb_train = lgb.Dataset(train_x, train_y)\n",
    "lgb_test = lgb.Dataset(valid_x, valid_y, reference=lgb_train)\n",
    "\n",
    "params = {\n",
    "    'lambda_l1' : 0.0009593260016534016,\n",
    "    'lambda_l2' : 5.1016424945822117e-08,\n",
    "    'num_leaves' : 147,\n",
    "    'feature_fraction' : 0.49119763510092085,\n",
    "    'bagging_fraction' : 0.5616838426181977,\n",
    "    'bagging_freq' : 4,\n",
    "    'min_child_samples' : 27 }\n",
    "\n",
    "evals_result = {}  # to record eval results for plotting\n",
    "\n",
    "\n",
    "print('Starting training...')\n",
    "# train\n",
    "gbm = lgb.train(params,\n",
    "                lgb_train,\n",
    "                num_boost_round=100,\n",
    "                valid_sets=[lgb_train, lgb_test],\n",
    "                feature_name=['f' + str(i + 1) for i in range(train_x.shape[-1])],\n",
    "                evals_result=evals_result,\n",
    "                verbose_eval=10)\n",
    "\n",
    "\n",
    "import matplotlib.pyplot as plt\n",
    "import seaborn as sns\n",
    "import warnings\n",
    "warnings.simplefilter(action='ignore', category=FutureWarning)\n",
    "\n",
    "def plotImp(model, X , num = 20):\n",
    "    feature_imp = pd.DataFrame({'Value':model.feature_importance(),'Feature':X.columns})\n",
    "    plt.figure(figsize=(40, 20))\n",
    "    sns.set(font_scale = 2)\n",
    "    sns.barplot(x=\"Value\", y=\"Feature\", data=feature_imp.sort_values(by=\"Value\", \n",
    "                                                        ascending=False)[0:num])\n",
    "    plt.title('LightGBM Features (avg over folds)')\n",
    "    plt.tight_layout()\n",
    "    plt.savefig('lgbm_importances-01.png')\n",
    "    plt.show()\n",
    "    \n",
    "plotImp(gbm, train_x, 20)"
   ]
  },
  {
   "cell_type": "markdown",
   "metadata": {},
   "source": [
    "#### If you would like you could change the number below to use less features. "
   ]
  },
  {
   "cell_type": "code",
   "execution_count": 7,
   "metadata": {},
   "outputs": [],
   "source": [
    "fs_indices_lgbm = np.argsort(gbm.feature_importance())[::-1][0:(sp500.shape[1]-1)] # change this to any number"
   ]
  },
  {
   "cell_type": "markdown",
   "metadata": {},
   "source": [
    "## Making & Tunning the Model"
   ]
  },
  {
   "cell_type": "code",
   "execution_count": 8,
   "metadata": {},
   "outputs": [],
   "source": [
    "import lightgbm as lgb\n",
    "import numpy as np\n",
    "import optuna\n",
    "import sklearn.datasets\n",
    "from sklearn.model_selection import train_test_split\n",
    "import sklearn.metrics\n",
    "\n",
    "\n",
    "class Objective:\n",
    "\n",
    "    def __init__(self):\n",
    "        self.best_booster = None\n",
    "        self._booster = None\n",
    "\n",
    "    def __call__(self, trial):\n",
    "        \n",
    "        # Train test split\n",
    "        data, target = sp500.iloc[:,0:(sp500.shape[1]-1)], sp500.iloc[:,(sp500.shape[1]-1)]\n",
    "        train_x, valid_x, train_y, valid_y = train_test_split(data, target, test_size=0.25)\n",
    "        \n",
    "        # assign these values with the number of features we want\n",
    "        train_x, train_y = train_x.iloc[:, fs_indices_lgbm], train_y \n",
    "        valid_x, valid_y = valid_x.iloc[:, fs_indices_lgbm], valid_y\n",
    "        \n",
    "        # turning these train/tests into lgb datasets\n",
    "        dtrain = lgb.Dataset(train_x, label=train_y)\n",
    "        dvalid = lgb.Dataset(valid_x, label=valid_y)\n",
    "\n",
    "        param = {\n",
    "            \"objective\": \"binary\",\n",
    "            \"metric\": \"auc\",\n",
    "            \"verbosity\": -1,\n",
    "            \"boosting_type\": \"gbdt\",\n",
    "            \"lambda_l1\": trial.suggest_loguniform(\"lambda_l1\", 1e-8, 10.0),\n",
    "            \"lambda_l2\": trial.suggest_loguniform(\"lambda_l2\", 1e-8, 10.0),\n",
    "            \"num_leaves\": trial.suggest_int(\"num_leaves\", 2, 256),\n",
    "            \"feature_fraction\": trial.suggest_uniform(\"feature_fraction\", 0.4, 1.0),\n",
    "            \"bagging_fraction\": trial.suggest_uniform(\"bagging_fraction\", 0.4, 1.0),\n",
    "            \"bagging_freq\": trial.suggest_int(\"bagging_freq\", 1, 7),\n",
    "            \"min_child_samples\": trial.suggest_int(\"min_child_samples\", 5, 100),\n",
    "        }\n",
    "\n",
    "        # Add a callback for pruning.\n",
    "        pruning_callback = optuna.integration.LightGBMPruningCallback(trial, \"auc\")\n",
    "        gbm = lgb.train(\n",
    "            param, dtrain, valid_sets=[dvalid], verbose_eval=False, callbacks=[pruning_callback]\n",
    "        )\n",
    "\n",
    "        self._booster = gbm\n",
    "\n",
    "        preds = gbm.predict(valid_x)\n",
    "        pred_labels = np.rint(preds)\n",
    "        accuracy = sklearn.metrics.roc_auc_score(valid_y, pred_labels)\n",
    "        return accuracy\n",
    "\n",
    "    def callback(self, study, trial):\n",
    "        if study.best_trial == trial:\n",
    "            self.best_booster = self._booster"
   ]
  },
  {
   "cell_type": "code",
   "execution_count": 9,
   "metadata": {},
   "outputs": [
    {
     "name": "stderr",
     "output_type": "stream",
     "text": [
      "[I 2020-06-13 18:29:30,409] Finished trial#0 with value: 0.5280744616231345 with parameters: {'lambda_l1': 0.08747537025773001, 'lambda_l2': 1.537331564587801e-08, 'num_leaves': 66, 'feature_fraction': 0.665808968613165, 'bagging_fraction': 0.8991468153827206, 'bagging_freq': 6, 'min_child_samples': 34}. Best is trial#0 with value: 0.5280744616231345.\n",
      "[I 2020-06-13 18:29:30,932] Finished trial#1 with value: 0.5075969731275696 with parameters: {'lambda_l1': 6.061300044367956e-07, 'lambda_l2': 0.0699481785242808, 'num_leaves': 2, 'feature_fraction': 0.5581617076173714, 'bagging_fraction': 0.4902267203570596, 'bagging_freq': 4, 'min_child_samples': 21}. Best is trial#0 with value: 0.5280744616231345.\n",
      "[I 2020-06-13 18:29:33,256] Finished trial#2 with value: 0.517435968445282 with parameters: {'lambda_l1': 0.22357153931242474, 'lambda_l2': 1.0583864232514661e-05, 'num_leaves': 90, 'feature_fraction': 0.8875725769912681, 'bagging_fraction': 0.7675156400976328, 'bagging_freq': 1, 'min_child_samples': 83}. Best is trial#0 with value: 0.5280744616231345.\n",
      "[I 2020-06-13 18:29:35,161] Finished trial#3 with value: 0.5158254632108491 with parameters: {'lambda_l1': 0.03523056624560428, 'lambda_l2': 0.0007377825540737586, 'num_leaves': 199, 'feature_fraction': 0.7255266208067568, 'bagging_fraction': 0.4853020285609162, 'bagging_freq': 6, 'min_child_samples': 97}. Best is trial#0 with value: 0.5280744616231345.\n",
      "[I 2020-06-13 18:29:39,518] Finished trial#4 with value: 0.5277185307819194 with parameters: {'lambda_l1': 0.011673538919840652, 'lambda_l2': 9.473240648272395e-05, 'num_leaves': 142, 'feature_fraction': 0.46324110009268066, 'bagging_fraction': 0.5701460071495394, 'bagging_freq': 4, 'min_child_samples': 23}. Best is trial#0 with value: 0.5280744616231345.\n",
      "[I 2020-06-13 18:29:44,146] Finished trial#5 with value: 0.5115167633784655 with parameters: {'lambda_l1': 3.221051638016016e-08, 'lambda_l2': 0.0774644361259612, 'num_leaves': 96, 'feature_fraction': 0.7129882914361805, 'bagging_fraction': 0.945189328485201, 'bagging_freq': 1, 'min_child_samples': 14}. Best is trial#0 with value: 0.5280744616231345.\n",
      "[I 2020-06-13 18:29:46,884] Finished trial#6 with value: 0.5386258077001644 with parameters: {'lambda_l1': 6.51829697963914e-08, 'lambda_l2': 5.085111847677709e-06, 'num_leaves': 73, 'feature_fraction': 0.44611330104774827, 'bagging_fraction': 0.9118257941911949, 'bagging_freq': 4, 'min_child_samples': 33}. Best is trial#6 with value: 0.5386258077001644.\n",
      "[I 2020-06-13 18:29:49,437] Finished trial#7 with value: 0.5226437444947302 with parameters: {'lambda_l1': 0.0008477648448701759, 'lambda_l2': 0.23636488716609746, 'num_leaves': 218, 'feature_fraction': 0.8601280295410021, 'bagging_fraction': 0.8991938606723515, 'bagging_freq': 1, 'min_child_samples': 93}. Best is trial#6 with value: 0.5386258077001644.\n",
      "[I 2020-06-13 18:29:50,133] Setting status of trial#8 as TrialState.PRUNED. Trial was pruned at iteration 11.\n",
      "[I 2020-06-13 18:29:51,080] Setting status of trial#9 as TrialState.PRUNED. Trial was pruned at iteration 85.\n",
      "[I 2020-06-13 18:29:51,596] Setting status of trial#10 as TrialState.PRUNED. Trial was pruned at iteration 11.\n",
      "[I 2020-06-13 18:29:53,085] Setting status of trial#11 as TrialState.PRUNED. Trial was pruned at iteration 37.\n",
      "[I 2020-06-13 18:29:56,108] Setting status of trial#12 as TrialState.PRUNED. Trial was pruned at iteration 31.\n",
      "[I 2020-06-13 18:29:58,158] Finished trial#13 with value: 0.5262624191736162 with parameters: {'lambda_l1': 5.3289041901311364e-05, 'lambda_l2': 3.5188997181054474e-07, 'num_leaves': 48, 'feature_fraction': 0.4802397677324415, 'bagging_fraction': 0.8292531050600528, 'bagging_freq': 7, 'min_child_samples': 65}. Best is trial#6 with value: 0.5386258077001644.\n",
      "[I 2020-06-13 18:29:58,877] Setting status of trial#14 as TrialState.PRUNED. Trial was pruned at iteration 11.\n",
      "[I 2020-06-13 18:29:59,410] Setting status of trial#15 as TrialState.PRUNED. Trial was pruned at iteration 11.\n",
      "[I 2020-06-13 18:29:59,834] Setting status of trial#16 as TrialState.PRUNED. Trial was pruned at iteration 12.\n",
      "[I 2020-06-13 18:30:00,359] Setting status of trial#17 as TrialState.PRUNED. Trial was pruned at iteration 15.\n",
      "[I 2020-06-13 18:30:05,851] Finished trial#18 with value: 0.5146199398767373 with parameters: {'lambda_l1': 0.01610599515749155, 'lambda_l2': 1.2767323242239683e-05, 'num_leaves': 164, 'feature_fraction': 0.9972946353032481, 'bagging_fraction': 0.868944581393983, 'bagging_freq': 2, 'min_child_samples': 46}. Best is trial#6 with value: 0.5386258077001644.\n",
      "[I 2020-06-13 18:30:06,548] Setting status of trial#19 as TrialState.PRUNED. Trial was pruned at iteration 11.\n",
      "[I 2020-06-13 18:30:07,378] Setting status of trial#20 as TrialState.PRUNED. Trial was pruned at iteration 12.\n",
      "[I 2020-06-13 18:30:08,126] Setting status of trial#21 as TrialState.PRUNED. Trial was pruned at iteration 11.\n",
      "[I 2020-06-13 18:30:08,864] Setting status of trial#22 as TrialState.PRUNED. Trial was pruned at iteration 11.\n",
      "[I 2020-06-13 18:30:09,569] Setting status of trial#23 as TrialState.PRUNED. Trial was pruned at iteration 11.\n",
      "[I 2020-06-13 18:30:11,507] Finished trial#24 with value: 0.5293030990173848 with parameters: {'lambda_l1': 6.247681813417128, 'lambda_l2': 4.283743386615616e-05, 'num_leaves': 252, 'feature_fraction': 0.442635144502522, 'bagging_fraction': 0.5924914032698823, 'bagging_freq': 3, 'min_child_samples': 29}. Best is trial#6 with value: 0.5386258077001644.\n",
      "[I 2020-06-13 18:30:13,188] Finished trial#25 with value: 0.5039410058027078 with parameters: {'lambda_l1': 9.382113361112136, 'lambda_l2': 3.203915431023567e-05, 'num_leaves': 250, 'feature_fraction': 0.5399824203491013, 'bagging_fraction': 0.6439838529438027, 'bagging_freq': 2, 'min_child_samples': 30}. Best is trial#6 with value: 0.5386258077001644.\n",
      "[I 2020-06-13 18:30:13,687] Setting status of trial#26 as TrialState.PRUNED. Trial was pruned at iteration 11.\n",
      "[I 2020-06-13 18:30:15,170] Setting status of trial#27 as TrialState.PRUNED. Trial was pruned at iteration 87.\n",
      "[I 2020-06-13 18:30:15,663] Setting status of trial#28 as TrialState.PRUNED. Trial was pruned at iteration 11.\n",
      "[I 2020-06-13 18:30:16,264] Setting status of trial#29 as TrialState.PRUNED. Trial was pruned at iteration 11.\n",
      "[I 2020-06-13 18:30:16,671] Setting status of trial#30 as TrialState.PRUNED. Trial was pruned at iteration 18.\n",
      "[I 2020-06-13 18:30:17,684] Setting status of trial#31 as TrialState.PRUNED. Trial was pruned at iteration 32.\n",
      "[I 2020-06-13 18:30:18,341] Setting status of trial#32 as TrialState.PRUNED. Trial was pruned at iteration 11.\n",
      "[I 2020-06-13 18:30:20,215] Setting status of trial#33 as TrialState.PRUNED. Trial was pruned at iteration 33.\n",
      "[I 2020-06-13 18:30:20,896] Setting status of trial#34 as TrialState.PRUNED. Trial was pruned at iteration 11.\n",
      "[I 2020-06-13 18:30:25,410] Finished trial#35 with value: 0.5182135548332731 with parameters: {'lambda_l1': 0.14294574614198122, 'lambda_l2': 1.1086231693087104e-06, 'num_leaves': 158, 'feature_fraction': 0.5195909931860522, 'bagging_fraction': 0.6177297795563315, 'bagging_freq': 4, 'min_child_samples': 15}. Best is trial#6 with value: 0.5386258077001644.\n",
      "[I 2020-06-13 18:30:26,013] Setting status of trial#36 as TrialState.PRUNED. Trial was pruned at iteration 11.\n",
      "[I 2020-06-13 18:30:28,011] Finished trial#37 with value: 0.5134325476113211 with parameters: {'lambda_l1': 0.0076405292604398165, 'lambda_l2': 0.0007670483395988516, 'num_leaves': 105, 'feature_fraction': 0.4009832152355022, 'bagging_fraction': 0.6652681102171847, 'bagging_freq': 6, 'min_child_samples': 51}. Best is trial#6 with value: 0.5386258077001644.\n",
      "[I 2020-06-13 18:30:29,750] Setting status of trial#38 as TrialState.PRUNED. Trial was pruned at iteration 33.\n",
      "[I 2020-06-13 18:30:30,347] Setting status of trial#39 as TrialState.PRUNED. Trial was pruned at iteration 11.\n",
      "[I 2020-06-13 18:30:30,851] Setting status of trial#40 as TrialState.PRUNED. Trial was pruned at iteration 11.\n",
      "[I 2020-06-13 18:30:32,063] Setting status of trial#41 as TrialState.PRUNED. Trial was pruned at iteration 68.\n",
      "[I 2020-06-13 18:30:32,575] Setting status of trial#42 as TrialState.PRUNED. Trial was pruned at iteration 11.\n",
      "[I 2020-06-13 18:30:33,158] Setting status of trial#43 as TrialState.PRUNED. Trial was pruned at iteration 11.\n",
      "[I 2020-06-13 18:30:34,644] Finished trial#44 with value: 0.5180759085334095 with parameters: {'lambda_l1': 2.2786392165685463e-06, 'lambda_l2': 1.1332619789297742e-07, 'num_leaves': 81, 'feature_fraction': 0.5958294345251781, 'bagging_fraction': 0.40246963371158506, 'bagging_freq': 7, 'min_child_samples': 68}. Best is trial#6 with value: 0.5386258077001644.\n",
      "[I 2020-06-13 18:30:35,812] Finished trial#45 with value: 0.528460293300476 with parameters: {'lambda_l1': 1.479140182916601e-08, 'lambda_l2': 5.810871387068455e-07, 'num_leaves': 15, 'feature_fraction': 0.7370587092385531, 'bagging_fraction': 0.93128206475906, 'bagging_freq': 5, 'min_child_samples': 85}. Best is trial#6 with value: 0.5386258077001644.\n",
      "[I 2020-06-13 18:30:36,108] Setting status of trial#46 as TrialState.PRUNED. Trial was pruned at iteration 12.\n",
      "[I 2020-06-13 18:30:36,588] Setting status of trial#47 as TrialState.PRUNED. Trial was pruned at iteration 11.\n",
      "[I 2020-06-13 18:30:39,217] Setting status of trial#48 as TrialState.PRUNED. Trial was pruned at iteration 43.\n",
      "[I 2020-06-13 18:30:39,762] Setting status of trial#49 as TrialState.PRUNED. Trial was pruned at iteration 11.\n"
     ]
    },
    {
     "name": "stdout",
     "output_type": "stream",
     "text": [
      "Best trial:\n",
      "  Params: \n",
      "    lambda_l1: 6.51829697963914e-08\n",
      "    lambda_l2: 5.085111847677709e-06\n",
      "    num_leaves: 73\n",
      "    feature_fraction: 0.44611330104774827\n",
      "    bagging_fraction: 0.9118257941911949\n",
      "    bagging_freq: 4\n",
      "    min_child_samples: 33\n"
     ]
    }
   ],
   "source": [
    "objective = Objective()\n",
    "\n",
    "# Setting SEED \n",
    "from optuna.samplers import TPESampler\n",
    "sampler = TPESampler(seed=10)\n",
    "\n",
    "\n",
    "study = optuna.create_study(\n",
    "    pruner=optuna.pruners.MedianPruner(n_warmup_steps=10), direction=\"maximize\",\n",
    "    sampler=sampler\n",
    ")\n",
    "study.optimize(objective, n_trials=50, callbacks=[objective.callback])\n",
    "\n",
    "print(\"Best trial:\")\n",
    "trial = study.best_trial\n",
    "\n",
    "print(\"  Params: \")\n",
    "for key, value in trial.params.items():\n",
    "    print(\"    {}: {}\".format(key, value))\n",
    "\n",
    "best_model = objective.best_booster"
   ]
  },
  {
   "cell_type": "markdown",
   "metadata": {},
   "source": [
    "## Importing Unseen Data"
   ]
  },
  {
   "cell_type": "code",
   "execution_count": 10,
   "metadata": {},
   "outputs": [
    {
     "name": "stdout",
     "output_type": "stream",
     "text": [
      "[*********************100%***********************]  1 of 1 completed\n"
     ]
    },
    {
     "data": {
      "text/plain": [
       "(10200, 6)"
      ]
     },
     "execution_count": 10,
     "metadata": {},
     "output_type": "execute_result"
    }
   ],
   "source": [
    "# Imports data\n",
    "start_sp=datetime.datetime(1980, 1, 1) \n",
    "end_sp=datetime.datetime(2020, 6, 12) # less than 12 days of new data (business days only)\n",
    "\n",
    "yf.pdr_override() \n",
    "sp500=pdr.get_data_yahoo('^GSPC', \n",
    "                        start_sp,\n",
    "                        end_sp)\n",
    "\n",
    "sp500.shape\n",
    "\n"
   ]
  },
  {
   "cell_type": "code",
   "execution_count": 11,
   "metadata": {},
   "outputs": [],
   "source": [
    "sp500 = prepare_data(sp500)\n",
    "target = sp500['Label'].values\n",
    "sp500 = sp500.drop('Label', axis = 1)"
   ]
  },
  {
   "cell_type": "code",
   "execution_count": 12,
   "metadata": {},
   "outputs": [
    {
     "name": "stdout",
     "output_type": "stream",
     "text": [
      "0.8653973095099906\n"
     ]
    }
   ],
   "source": [
    "new_preds = best_model.predict(sp500.iloc[:, fs_indices_lgbm])\n",
    "new_pred_labels = np.rint(new_preds)\n",
    "# Taking a look at the AUC \n",
    "print(sklearn.metrics.roc_auc_score(target, new_pred_labels))"
   ]
  },
  {
   "cell_type": "markdown",
   "metadata": {},
   "source": [
    "## Predictions on the last 10 business days that were unseen by the model"
   ]
  },
  {
   "cell_type": "code",
   "execution_count": 13,
   "metadata": {},
   "outputs": [
    {
     "data": {
      "image/png": "[encoded data removed]",
      "text/plain": [
       "<Figure size 432x288 with 1 Axes>"
      ]
     },
     "metadata": {},
     "output_type": "display_data"
    }
   ],
   "source": [
    "from sklearn.metrics import confusion_matrix\n",
    "mat = confusion_matrix(target[-10:], new_pred_labels[-10:])\n",
    "sns.heatmap(mat.T, square=True, annot=True, fmt='d', cbar=False)\n",
    "plt.xlabel('true label')\n",
    "plt.ylabel('predicted label');"
   ]
  },
  {
   "cell_type": "markdown",
   "metadata": {},
   "source": [
    "## Predictions on the all business days including data it has seen before"
   ]
  },
  {
   "cell_type": "code",
   "execution_count": 14,
   "metadata": {},
   "outputs": [
    {
     "data": {
      "image/png": "[encoded data removed]",
      "text/plain": [
       "<Figure size 432x288 with 1 Axes>"
      ]
     },
     "metadata": {},
     "output_type": "display_data"
    }
   ],
   "source": [
    "from sklearn.metrics import confusion_matrix\n",
    "mat = confusion_matrix(target, new_pred_labels)\n",
    "sns.heatmap(mat.T, square=True, annot=True, fmt='d', cbar=False)\n",
    "plt.xlabel('true label')\n",
    "plt.ylabel('predicted label');"
   ]
  }
 ],
 "metadata": {
  "kernelspec": {
   "display_name": "Python 3",
   "language": "python",
   "name": "python3"
  },
  "language_info": {
   "codemirror_mode": {
    "name": "ipython",
    "version": 3
   },
   "file_extension": ".py",
   "mimetype": "text/x-python",
   "name": "python",
   "nbconvert_exporter": "python",
   "pygments_lexer": "ipython3",
   "version": "3.7.7"
  }
 },
 "nbformat": 4,
 "nbformat_minor": 2
}
